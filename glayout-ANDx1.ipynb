{
 "cells": [
  {
   "cell_type": "code",
   "execution_count": 1,
   "metadata": {},
   "outputs": [],
   "source": [
    "%run ./OpenFASOC/openfasoc/generators/glayout/gds_display.py."
   ]
  },
  {
   "cell_type": "code",
   "execution_count": 2,
   "metadata": {},
   "outputs": [
    {
     "name": "stdout",
     "output_type": "stream",
     "text": [
      "c:\\Users\\ARF-DESIGN-CD7\\open-source\\ANDx1\n"
     ]
    },
    {
     "name": "stderr",
     "output_type": "stream",
     "text": [
      "c:\\Users\\ARF-DESIGN-CD7\\anaconda3\\envs\\RajPandey\\Lib\\site-packages\\IPython\\core\\magics\\osm.py:417: UserWarning: This is now an optional IPython functionality, setting dhist requires you to install the `pickleshare` library.\n",
      "  self.shell.db['dhist'] = compress_dhist(dhist)[-100:]\n"
     ]
    }
   ],
   "source": [
    "%cd ./ANDx1/"
   ]
  },
  {
   "cell_type": "code",
   "execution_count": 3,
   "metadata": {},
   "outputs": [],
   "source": [
    "from glayout.flow.pdk.util.comp_utils import evaluate_bbox\n",
    "from glayout.flow.pdk.mappedpdk import MappedPDK\n",
    "from glayout.flow.routing.c_route import c_route\n",
    "from gdsfactory import Component\n",
    "from glayout.flow.primitives.fet import pmos, nmos \n",
    "from glayout.flow.routing.c_route import c_route\n",
    "from glayout.flow.routing.L_route import L_route"
   ]
  },
  {
   "cell_type": "code",
   "execution_count": 4,
   "metadata": {},
   "outputs": [
    {
     "name": "stderr",
     "output_type": "stream",
     "text": [
      "\u001b[32m2024-08-06 14:06:49.414\u001b[0m | \u001b[1mINFO    \u001b[0m | \u001b[36mgdsfactory.pdk\u001b[0m:\u001b[36mactivate\u001b[0m:\u001b[36m337\u001b[0m - \u001b[1m'sky130' PDK is now active\u001b[0m\n"
     ]
    },
    {
     "ename": "ValueError",
     "evalue": "'M1' not in dict_keys([])",
     "output_type": "error",
     "traceback": [
      "\u001b[1;31m---------------------------------------------------------------------------\u001b[0m",
      "\u001b[1;31mValueError\u001b[0m                                Traceback (most recent call last)",
      "Cell \u001b[1;32mIn[4], line 78\u001b[0m\n\u001b[0;32m     74\u001b[0m     AndComp \u001b[38;5;241m<<\u001b[39m c_route(pdk, cpmos_pmos\u001b[38;5;241m.\u001b[39mports[\u001b[38;5;124m\"\u001b[39m\u001b[38;5;124mmultiplier_0_gate_W\u001b[39m\u001b[38;5;124m\"\u001b[39m], cnmos_nmos\u001b[38;5;241m.\u001b[39mports[\u001b[38;5;124m\"\u001b[39m\u001b[38;5;124mmultiplier_0_gate_W\u001b[39m\u001b[38;5;124m\"\u001b[39m])\n\u001b[0;32m     77\u001b[0m     \u001b[38;5;28;01mreturn\u001b[39;00m AndComp\n\u001b[1;32m---> 78\u001b[0m Andx1 (pdk\u001b[38;5;241m=\u001b[39msky130)\u001b[38;5;241m.\u001b[39mwrite_gds(\u001b[38;5;124m\"\u001b[39m\u001b[38;5;124mAndx1_example.gds\u001b[39m\u001b[38;5;124m\"\u001b[39m)\n\u001b[0;32m     79\u001b[0m display_gds(\u001b[38;5;124m\"\u001b[39m\u001b[38;5;124mAndx1_example.gds\u001b[39m\u001b[38;5;124m\"\u001b[39m)\n",
      "Cell \u001b[1;32mIn[4], line 61\u001b[0m, in \u001b[0;36mAndx1\u001b[1;34m(pdk)\u001b[0m\n\u001b[0;32m     57\u001b[0m bbox_value \u001b[38;5;241m=\u001b[39m evaluate_bbox(pfet_pmos2)[\u001b[38;5;241m0\u001b[39m]\n\u001b[0;32m     58\u001b[0m cnmos2_nmos\u001b[38;5;241m.\u001b[39mmovex(bbox_value \u001b[38;5;241m+\u001b[39m pdk\u001b[38;5;241m.\u001b[39mutil_max_metal_seperation())\n\u001b[1;32m---> 61\u001b[0m input_port \u001b[38;5;241m=\u001b[39m AndComp\u001b[38;5;241m.\u001b[39madd_port(name\u001b[38;5;241m=\u001b[39m\u001b[38;5;124m\"\u001b[39m\u001b[38;5;124minput\u001b[39m\u001b[38;5;124m\"\u001b[39m, width\u001b[38;5;241m=\u001b[39m\u001b[38;5;241m1\u001b[39m, layer\u001b[38;5;241m=\u001b[39m\u001b[38;5;124m\"\u001b[39m\u001b[38;5;124mM1\u001b[39m\u001b[38;5;124m\"\u001b[39m)\n\u001b[0;32m     62\u001b[0m output_port \u001b[38;5;241m=\u001b[39m AndComp\u001b[38;5;241m.\u001b[39madd_port(name\u001b[38;5;241m=\u001b[39m\u001b[38;5;124m\"\u001b[39m\u001b[38;5;124moutput\u001b[39m\u001b[38;5;124m\"\u001b[39m, width\u001b[38;5;241m=\u001b[39m\u001b[38;5;241m1\u001b[39m, layer\u001b[38;5;241m=\u001b[39m\u001b[38;5;124m\"\u001b[39m\u001b[38;5;124mM1\u001b[39m\u001b[38;5;124m\"\u001b[39m)\n\u001b[0;32m     63\u001b[0m AndComp\u001b[38;5;241m.\u001b[39mconnect(input_port, pfet_pmos\u001b[38;5;241m.\u001b[39mports[\u001b[38;5;124m\"\u001b[39m\u001b[38;5;124mgate\u001b[39m\u001b[38;5;124m\"\u001b[39m])\n",
      "File \u001b[1;32mc:\\Users\\ARF-DESIGN-CD7\\anaconda3\\envs\\RajPandey\\Lib\\site-packages\\gdsfactory\\component.py:906\u001b[0m, in \u001b[0;36mComponent.add_port\u001b[1;34m(self, name, center, width, orientation, port, layer, port_type, cross_section, shear_angle)\u001b[0m\n\u001b[0;32m    886\u001b[0m \u001b[38;5;250m\u001b[39m\u001b[38;5;124;03m\"\"\"Add port to component.\u001b[39;00m\n\u001b[0;32m    887\u001b[0m \n\u001b[0;32m    888\u001b[0m \u001b[38;5;124;03mYou can copy an existing port like add_port(port = existing_port) or\u001b[39;00m\n\u001b[1;32m   (...)\u001b[0m\n\u001b[0;32m    902\u001b[0m \u001b[38;5;124;03m    shear_angle: an optional angle to shear port face in degrees.\u001b[39;00m\n\u001b[0;32m    903\u001b[0m \u001b[38;5;124;03m\"\"\"\u001b[39;00m\n\u001b[0;32m    904\u001b[0m \u001b[38;5;28;01mfrom\u001b[39;00m \u001b[38;5;21;01mgdsfactory\u001b[39;00m\u001b[38;5;21;01m.\u001b[39;00m\u001b[38;5;21;01mpdk\u001b[39;00m \u001b[38;5;28;01mimport\u001b[39;00m get_cross_section, get_layer\n\u001b[1;32m--> 906\u001b[0m layer \u001b[38;5;241m=\u001b[39m get_layer(layer)\n\u001b[0;32m    908\u001b[0m \u001b[38;5;28;01mif\u001b[39;00m port:\n\u001b[0;32m    909\u001b[0m     \u001b[38;5;28;01mif\u001b[39;00m \u001b[38;5;129;01mnot\u001b[39;00m \u001b[38;5;28misinstance\u001b[39m(port, Port):\n",
      "File \u001b[1;32mc:\\Users\\ARF-DESIGN-CD7\\anaconda3\\envs\\RajPandey\\Lib\\site-packages\\gdsfactory\\pdk.py:759\u001b[0m, in \u001b[0;36mget_layer\u001b[1;34m(layer)\u001b[0m\n\u001b[0;32m    758\u001b[0m \u001b[38;5;28;01mdef\u001b[39;00m \u001b[38;5;21mget_layer\u001b[39m(layer: LayerSpec) \u001b[38;5;241m-\u001b[39m\u001b[38;5;241m>\u001b[39m Layer:\n\u001b[1;32m--> 759\u001b[0m     \u001b[38;5;28;01mreturn\u001b[39;00m get_active_pdk()\u001b[38;5;241m.\u001b[39mget_layer(layer)\n",
      "File \u001b[1;32mc:\\Users\\ARF-DESIGN-CD7\\anaconda3\\envs\\RajPandey\\Lib\\site-packages\\gdsfactory\\pdk.py:592\u001b[0m, in \u001b[0;36mPdk.get_layer\u001b[1;34m(self, layer)\u001b[0m\n\u001b[0;32m    590\u001b[0m \u001b[38;5;28;01melif\u001b[39;00m \u001b[38;5;28misinstance\u001b[39m(layer, \u001b[38;5;28mstr\u001b[39m):\n\u001b[0;32m    591\u001b[0m     \u001b[38;5;28;01mif\u001b[39;00m layer \u001b[38;5;129;01mnot\u001b[39;00m \u001b[38;5;129;01min\u001b[39;00m \u001b[38;5;28mself\u001b[39m\u001b[38;5;241m.\u001b[39mlayers:\n\u001b[1;32m--> 592\u001b[0m         \u001b[38;5;28;01mraise\u001b[39;00m \u001b[38;5;167;01mValueError\u001b[39;00m(\u001b[38;5;124mf\u001b[39m\u001b[38;5;124m\"\u001b[39m\u001b[38;5;132;01m{\u001b[39;00mlayer\u001b[38;5;132;01m!r}\u001b[39;00m\u001b[38;5;124m not in \u001b[39m\u001b[38;5;132;01m{\u001b[39;00m\u001b[38;5;28mself\u001b[39m\u001b[38;5;241m.\u001b[39mlayers\u001b[38;5;241m.\u001b[39mkeys()\u001b[38;5;132;01m}\u001b[39;00m\u001b[38;5;124m\"\u001b[39m)\n\u001b[0;32m    593\u001b[0m     \u001b[38;5;28;01mreturn\u001b[39;00m \u001b[38;5;28mself\u001b[39m\u001b[38;5;241m.\u001b[39mlayers[layer]\n\u001b[0;32m    594\u001b[0m \u001b[38;5;28;01melif\u001b[39;00m layer \u001b[38;5;129;01mis\u001b[39;00m np\u001b[38;5;241m.\u001b[39mnan:\n",
      "\u001b[1;31mValueError\u001b[0m: 'M1' not in dict_keys([])"
     ]
    }
   ],
   "source": [
    "def Andx1(pdk: MappedPDK):\n",
    "    AndComp = Component()\n",
    "    pfet_pmos = pmos(pdk, length=1, width=3, fingers=1, multipliers=1)\n",
    "    pfet_pmos1 = pmos(pdk, length=1, width=3, fingers=1, multipliers=1)\n",
    "    pfet_pmos2 = pmos(pdk, length=1, width=3, fingers=1, multipliers=1)\n",
    "    nfet_nmos = nmos(pdk, length=1, width=3, fingers=1, multipliers=1)\n",
    "    nfet_nmos1 = nmos(pdk, length=1, width=3, fingers=1, multipliers=1)\n",
    "    nfet_nmos2 = nmos(pdk, length=1, width=3, fingers=1, multipliers=1)\n",
    "    \n",
    "    cpmos_pmos = AndComp << pfet_pmos\n",
    "    cpmos1_pmos = AndComp << pfet_pmos1\n",
    "    cpmos2_pmos = AndComp << pfet_pmos2\n",
    "    cnmos_nmos = AndComp << nfet_nmos\n",
    "    cnmos1_nmos = AndComp << nfet_nmos1\n",
    "    cnmos2_nmos = AndComp << nfet_nmos2\n",
    "    \n",
    "    pdk.util_max_metal_seperation()\n",
    "    \n",
    "\n",
    "    def evaluate_bbox(component):\n",
    "        return (10,10)\n",
    "    bbox_value = evaluate_bbox(nfet_nmos)[1]\n",
    "    cpmos_pmos.movey(bbox_value + pdk.util_max_metal_seperation())\n",
    "\n",
    "\n",
    "    def evaluate_bbox(component):\n",
    "        return (8,10) \n",
    "    bbox_value = evaluate_bbox(nfet_nmos1)\n",
    "    x_offset = bbox_value[0]\n",
    "    y_offset = bbox_value[1]\n",
    "    cpmos1_pmos.move((x_offset + pdk.util_max_metal_seperation(), y_offset + pdk.util_max_metal_seperation()))\n",
    "        \n",
    "\n",
    "    def evaluate_bbox(component):\n",
    "        return (16,10) \n",
    "    bbox_value = evaluate_bbox(nfet_nmos2)\n",
    "    x_offset = bbox_value[0]\n",
    "    y_offset = bbox_value[1]\n",
    "    cpmos2_pmos.move((x_offset + pdk.util_max_metal_seperation(), y_offset + pdk.util_max_metal_seperation()))\n",
    "\n",
    "\n",
    "    def evaluate_bbox(component):\n",
    "        return (0,10)\n",
    "    bbox_value = evaluate_bbox(pfet_pmos)[0]\n",
    "    cnmos_nmos.movex(bbox_value + pdk.util_max_metal_seperation())\n",
    "    \n",
    "    \n",
    "    \n",
    "    def evaluate_bbox(component):\n",
    "        return (8,10)\n",
    "    bbox_value = evaluate_bbox(pfet_pmos1)[0]\n",
    "    cnmos1_nmos.movex(bbox_value + pdk.util_max_metal_seperation())\n",
    "    \n",
    "    \n",
    "    def evaluate_bbox(component):\n",
    "        return (16,10)\n",
    "    bbox_value = evaluate_bbox(pfet_pmos2)[0]\n",
    "    cnmos2_nmos.movex(bbox_value + pdk.util_max_metal_seperation())\n",
    "\n",
    "\n",
    "    # input_port = AndComp.add_port(name=\"input\", width=1, layer=\"M1\")\n",
    "    # output_port = AndComp.add_port(name=\"output\", width=1, layer=\"M1\")\n",
    "    # AndComp.connect(input_port, pfet_pmos.ports[\"gate\"])\n",
    "    \n",
    "        \n",
    "    # AndComp.add_port(name=\"A\", port=cpmos_pmos.ports[\"multiplier_0_drain_E\"],orientation= \"E\", port_type=\"electrical\", layer =[\"Metal1\",(10,10)])\n",
    "    \n",
    "    \n",
    "    AndComp << c_route(pdk, cpmos_pmos.ports[\"multiplier_0_source_E\"], cpmos1_pmos.ports[\"multiplier_0_source_E\"])\n",
    "    AndComp << c_route(pdk, cpmos1_pmos.ports[\"multiplier_0_source_E\"], cpmos2_pmos.ports[\"multiplier_0_source_E\"])\n",
    "    AndComp << c_route(pdk, cpmos_pmos.ports[\"multiplier_0_drain_E\"], cpmos1_pmos.ports[\"multiplier_0_drain_E\"])\n",
    "    AndComp << c_route(pdk, cpmos2_pmos.ports[\"multiplier_0_gate_W\"], cnmos2_nmos.ports[\"multiplier_0_gate_W\"])\n",
    "    AndComp << c_route(pdk, cpmos1_pmos.ports[\"multiplier_0_drain_E\"], cpmos2_pmos.ports[\"multiplier_0_gate_E\"])\n",
    "    AndComp << c_route(pdk, cpmos2_pmos.ports[\"multiplier_0_drain_E\"], cnmos2_nmos.ports[\"multiplier_0_drain_E\"])\n",
    "    AndComp << c_route(pdk, cnmos_nmos.ports[\"multiplier_0_source_E\"], cnmos1_nmos.ports[\"multiplier_0_drain_E\"])\n",
    "    AndComp << c_route(pdk, cnmos1_nmos.ports[\"multiplier_0_source_E\"], cnmos2_nmos[\"multiplier_0_source_E\"])\n",
    "    AndComp << c_route(pdk, cpmos1_pmos.ports[\"multiplier_0_gate_W\"], cnmos1_nmos.ports[\"multiplier_0_gate_W\"])\n",
    "    AndComp << c_route(pdk, cpmos_pmos.ports[\"multiplier_0_gate_W\"], cnmos_nmos.ports[\"multiplier_0_gate_W\"])\n",
    "    \n",
    "    \n",
    "    return AndComp\n",
    "Andx1 (pdk=sky130).write_gds(\"Andx1_example.gds\")\n",
    "display_gds(\"Andx1_example.gds\")"
   ]
  }
 ],
 "metadata": {
  "kernelspec": {
   "display_name": "RajPandey",
   "language": "python",
   "name": "rajpandey"
  },
  "language_info": {
   "codemirror_mode": {
    "name": "ipython",
    "version": 3
   },
   "file_extension": ".py",
   "mimetype": "text/x-python",
   "name": "python",
   "nbconvert_exporter": "python",
   "pygments_lexer": "ipython3",
   "version": "3.12.4"
  }
 },
 "nbformat": 4,
 "nbformat_minor": 2
}
