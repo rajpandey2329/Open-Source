{
 "cells": [
  {
   "cell_type": "code",
   "execution_count": 1,
   "metadata": {},
   "outputs": [],
   "source": [
    "%run ./OpenFASOC/openfasoc/generators/glayout/gds_display.py."
   ]
  },
  {
   "cell_type": "code",
   "execution_count": 2,
   "metadata": {},
   "outputs": [],
   "source": [
    "from glayout.flow.pdk.util.comp_utils import evaluate_bbox\n",
    "from glayout.flow.pdk.mappedpdk import MappedPDK\n",
    "from glayout.flow.routing.c_route import c_route\n",
    "from gdsfactory import Component\n",
    "from glayout.flow.primitives.fet import pmos, nmos \n",
    "from glayout.flow.routing.c_route import c_route\n",
    "from glayout.flow.routing.L_route import L_route"
   ]
  },
  {
   "cell_type": "code",
   "execution_count": 3,
   "metadata": {},
   "outputs": [
    {
     "name": "stderr",
     "output_type": "stream",
     "text": [
      "\u001b[32m2024-08-05 17:21:25.523\u001b[0m | \u001b[1mINFO    \u001b[0m | \u001b[36mgdsfactory.pdk\u001b[0m:\u001b[36mactivate\u001b[0m:\u001b[36m337\u001b[0m - \u001b[1m'sky130' PDK is now active\u001b[0m\n"
     ]
    },
    {
     "ename": "NameError",
     "evalue": "name 'Via' is not defined",
     "output_type": "error",
     "traceback": [
      "\u001b[1;31m---------------------------------------------------------------------------\u001b[0m",
      "\u001b[1;31mNameError\u001b[0m                                 Traceback (most recent call last)",
      "Cell \u001b[1;32mIn[3], line 82\u001b[0m\n\u001b[0;32m     78\u001b[0m     add_via(AndComp, cpmos_pmos\u001b[38;5;241m.\u001b[39mports[\u001b[38;5;124m\"\u001b[39m\u001b[38;5;124mmultiplier_0_gate_W\u001b[39m\u001b[38;5;124m\"\u001b[39m], cnmos_nmos\u001b[38;5;241m.\u001b[39mports[\u001b[38;5;124m\"\u001b[39m\u001b[38;5;124mmultiplier_0_gate_W\u001b[39m\u001b[38;5;124m\"\u001b[39m])\n\u001b[0;32m     80\u001b[0m     \u001b[38;5;28;01mreturn\u001b[39;00m AndComp\n\u001b[1;32m---> 82\u001b[0m Andx1(pdk\u001b[38;5;241m=\u001b[39msky130)\u001b[38;5;241m.\u001b[39mwrite_gds(\u001b[38;5;124m\"\u001b[39m\u001b[38;5;124mAndx1_example.gds\u001b[39m\u001b[38;5;124m\"\u001b[39m)\n\u001b[0;32m     83\u001b[0m display_gds(\u001b[38;5;124m\"\u001b[39m\u001b[38;5;124mAndx1_example.gds\u001b[39m\u001b[38;5;124m\"\u001b[39m)\n",
      "Cell \u001b[1;32mIn[3], line 69\u001b[0m, in \u001b[0;36mAndx1\u001b[1;34m(pdk)\u001b[0m\n\u001b[0;32m     66\u001b[0m     via \u001b[38;5;241m=\u001b[39m Via(pdk, port1, port2)\n\u001b[0;32m     67\u001b[0m     component \u001b[38;5;241m<<\u001b[39m via\n\u001b[1;32m---> 69\u001b[0m add_via(AndComp, cpmos_pmos\u001b[38;5;241m.\u001b[39mports[\u001b[38;5;124m\"\u001b[39m\u001b[38;5;124mmultiplier_0_source_E\u001b[39m\u001b[38;5;124m\"\u001b[39m], cpmos1_pmos\u001b[38;5;241m.\u001b[39mports[\u001b[38;5;124m\"\u001b[39m\u001b[38;5;124mmultiplier_0_source_E\u001b[39m\u001b[38;5;124m\"\u001b[39m])\n\u001b[0;32m     70\u001b[0m add_via(AndComp, cpmos1_pmos\u001b[38;5;241m.\u001b[39mports[\u001b[38;5;124m\"\u001b[39m\u001b[38;5;124mmultiplier_0_source_E\u001b[39m\u001b[38;5;124m\"\u001b[39m], cpmos2_pmos\u001b[38;5;241m.\u001b[39mports[\u001b[38;5;124m\"\u001b[39m\u001b[38;5;124mmultiplier_0_source_E\u001b[39m\u001b[38;5;124m\"\u001b[39m])\n\u001b[0;32m     71\u001b[0m add_via(AndComp, cpmos_pmos\u001b[38;5;241m.\u001b[39mports[\u001b[38;5;124m\"\u001b[39m\u001b[38;5;124mmultiplier_0_drain_E\u001b[39m\u001b[38;5;124m\"\u001b[39m], cpmos1_pmos\u001b[38;5;241m.\u001b[39mports[\u001b[38;5;124m\"\u001b[39m\u001b[38;5;124mmultiplier_0_drain_E\u001b[39m\u001b[38;5;124m\"\u001b[39m])\n",
      "Cell \u001b[1;32mIn[3], line 66\u001b[0m, in \u001b[0;36mAndx1.<locals>.add_via\u001b[1;34m(component, port1, port2)\u001b[0m\n\u001b[0;32m     65\u001b[0m \u001b[38;5;28;01mdef\u001b[39;00m \u001b[38;5;21madd_via\u001b[39m(component, port1, port2):\n\u001b[1;32m---> 66\u001b[0m     via \u001b[38;5;241m=\u001b[39m Via(pdk, port1, port2)\n\u001b[0;32m     67\u001b[0m     component \u001b[38;5;241m<<\u001b[39m via\n",
      "\u001b[1;31mNameError\u001b[0m: name 'Via' is not defined"
     ]
    }
   ],
   "source": [
    "def Andx1(pdk: MappedPDK):\n",
    "    AndComp = Component()\n",
    "    pfet_pmos = pmos(pdk, length=1, width=3, fingers=1, multipliers=1)\n",
    "    pfet_pmos1 = pmos(pdk, length=1, width=3, fingers=1, multipliers=1)\n",
    "    pfet_pmos2 = pmos(pdk, length=1, width=3, fingers=1, multipliers=1)\n",
    "    nfet_nmos = nmos(pdk, length=1, width=3, fingers=1, multipliers=1)\n",
    "    nfet_nmos1 = nmos(pdk, length=1, width=3, fingers=1, multipliers=1)\n",
    "    nfet_nmos2 = nmos(pdk, length=1, width=3, fingers=1, multipliers=1)\n",
    "    \n",
    "    cpmos_pmos = AndComp << pfet_pmos\n",
    "    cpmos1_pmos = AndComp << pfet_pmos1\n",
    "    cpmos2_pmos = AndComp << pfet_pmos2\n",
    "    cnmos_nmos = AndComp << nfet_nmos\n",
    "    cnmos1_nmos = AndComp << nfet_nmos1\n",
    "    cnmos2_nmos = AndComp << nfet_nmos2\n",
    "    \n",
    "    pdk.util_max_metal_seperation()\n",
    "    \n",
    "    def evaluate_bbox(component):\n",
    "        return (10,10)\n",
    "    bbox_value = evaluate_bbox(nfet_nmos)[1]\n",
    "    cpmos_pmos.movey(bbox_value + pdk.util_max_metal_seperation())\n",
    "\n",
    "    def evaluate_bbox(component):\n",
    "        return (8,10) \n",
    "    bbox_value = evaluate_bbox(nfet_nmos1)\n",
    "    x_offset = bbox_value[0]\n",
    "    y_offset = bbox_value[1]\n",
    "    cpmos1_pmos.move((x_offset + pdk.util_max_metal_seperation(), y_offset + pdk.util_max_metal_seperation()))\n",
    "        \n",
    "    def evaluate_bbox(component):\n",
    "        return (16,10) \n",
    "    bbox_value = evaluate_bbox(nfet_nmos2)\n",
    "    x_offset = bbox_value[0]\n",
    "    y_offset = bbox_value[1]\n",
    "    cpmos2_pmos.move((x_offset + pdk.util_max_metal_seperation(), y_offset + pdk.util_max_metal_seperation()))\n",
    "\n",
    "    def evaluate_bbox(component):\n",
    "        return (0,10)\n",
    "    bbox_value = evaluate_bbox(pfet_pmos)[0]\n",
    "    cnmos_nmos.movex(bbox_value + pdk.util_max_metal_seperation())\n",
    "    \n",
    "    def evaluate_bbox(component):\n",
    "        return (8,10)\n",
    "    bbox_value = evaluate_bbox(pfet_pmos1)[0]\n",
    "    cnmos1_nmos.movex(bbox_value + pdk.util_max_metal_seperation())\n",
    "    \n",
    "    def evaluate_bbox(component):\n",
    "        return (16,10)\n",
    "    bbox_value = evaluate_bbox(pfet_pmos2)[0]\n",
    "    cnmos2_nmos.movex(bbox_value + pdk.util_max_metal_seperation())\n",
    "\n",
    "    AndComp << c_route(pdk, cpmos_pmos.ports[\"multiplier_0_source_E\"], cpmos1_pmos.ports[\"multiplier_0_source_E\"])\n",
    "    AndComp << c_route(pdk, cpmos1_pmos.ports[\"multiplier_0_source_E\"], cpmos2_pmos.ports[\"multiplier_0_source_E\"])\n",
    "    AndComp << c_route(pdk, cpmos_pmos.ports[\"multiplier_0_drain_E\"], cpmos1_pmos.ports[\"multiplier_0_drain_E\"])\n",
    "    AndComp << c_route(pdk, cpmos2_pmos.ports[\"multiplier_0_gate_W\"], cnmos2_nmos.ports[\"multiplier_0_gate_W\"])\n",
    "    AndComp << c_route(pdk, cpmos1_pmos.ports[\"multiplier_0_drain_E\"], cpmos2_pmos.ports[\"multiplier_0_gate_E\"])\n",
    "    AndComp << c_route(pdk, cpmos2_pmos.ports[\"multiplier_0_drain_E\"], cnmos2_nmos.ports[\"multiplier_0_drain_E\"])\n",
    "    AndComp << c_route(pdk, cnmos_nmos.ports[\"multiplier_0_source_E\"], cnmos1_nmos.ports[\"multiplier_0_drain_E\"])\n",
    "    AndComp << c_route(pdk, cnmos1_nmos.ports[\"multiplier_0_source_E\"], cnmos2_nmos[\"multiplier_0_source_E\"])\n",
    "    AndComp << c_route(pdk, cpmos1_pmos.ports[\"multiplier_0_gate_W\"], cnmos1_nmos.ports[\"multiplier_0_gate_W\"])\n",
    "    AndComp << c_route(pdk, cpmos_pmos.ports[\"multiplier_0_gate_W\"], cnmos_nmos.ports[\"multiplier_0_gate_W\"])\n",
    "\n",
    "    # Adding vias\n",
    "    def add_via(component, port1, port2):\n",
    "        via = Via(pdk, port1, port2)\n",
    "        component << via\n",
    "\n",
    "    add_via(AndComp, cpmos_pmos.ports[\"multiplier_0_source_E\"], cpmos1_pmos.ports[\"multiplier_0_source_E\"])\n",
    "    add_via(AndComp, cpmos1_pmos.ports[\"multiplier_0_source_E\"], cpmos2_pmos.ports[\"multiplier_0_source_E\"])\n",
    "    add_via(AndComp, cpmos_pmos.ports[\"multiplier_0_drain_E\"], cpmos1_pmos.ports[\"multiplier_0_drain_E\"])\n",
    "    add_via(AndComp, cpmos2_pmos.ports[\"multiplier_0_gate_W\"], cnmos2_nmos.ports[\"multiplier_0_gate_W\"])\n",
    "    add_via(AndComp, cpmos1_pmos.ports[\"multiplier_0_drain_E\"], cpmos2_pmos.ports[\"multiplier_0_gate_E\"])\n",
    "    add_via(AndComp, cpmos2_pmos.ports[\"multiplier_0_drain_E\"], cnmos2_nmos.ports[\"multiplier_0_drain_E\"])\n",
    "    add_via(AndComp, cnmos_nmos.ports[\"multiplier_0_source_E\"], cnmos1_nmos.ports[\"multiplier_0_drain_E\"])\n",
    "    add_via(AndComp, cnmos1_nmos.ports[\"multiplier_0_source_E\"], cnmos2_nmos[\"multiplier_0_source_E\"])\n",
    "    add_via(AndComp, cpmos1_pmos.ports[\"multiplier_0_gate_W\"], cnmos1_nmos.ports[\"multiplier_0_gate_W\"])\n",
    "    add_via(AndComp, cpmos_pmos.ports[\"multiplier_0_gate_W\"], cnmos_nmos.ports[\"multiplier_0_gate_W\"])\n",
    "\n",
    "    return AndComp\n",
    "\n",
    "Andx1(pdk=sky130).write_gds(\"Andx1_example.gds\")\n",
    "display_gds(\"Andx1_example.gds\")\n"
   ]
  }
 ],
 "metadata": {
  "kernelspec": {
   "display_name": "RajPandey",
   "language": "python",
   "name": "rajpandey"
  },
  "language_info": {
   "codemirror_mode": {
    "name": "ipython",
    "version": 3
   },
   "file_extension": ".py",
   "mimetype": "text/x-python",
   "name": "python",
   "nbconvert_exporter": "python",
   "pygments_lexer": "ipython3",
   "version": "3.12.4"
  }
 },
 "nbformat": 4,
 "nbformat_minor": 2
}
